{
 "cells": [
  {
   "cell_type": "code",
   "execution_count": 20,
   "metadata": {
    "collapsed": true
   },
   "outputs": [],
   "source": [
    "from sklearn import linear_model\n",
    "from sklearn import cross_validation\n",
    "from sklearn.grid_search import GridSearchCV\n",
    "\n",
    "def logistic_c(Xtest, ytest):\n",
    "    scores = []\n",
    "    k_fold = cross_validation.KFold(Xtest.shape[0],10)\n",
    "    Cvalues = [10000,1000,100,10,1,0.1,0.01,0.001,0.0001]\n",
    "    for c in Cvalues:\n",
    "        score = 0\n",
    "        for k, (train, val) in enumerate(k_fold):\n",
    "            Xcross = Xtest[train]\n",
    "            logit = linear_model.LogisticRegression(C=c)\n",
    "            logit.fit(Xcross,np.ravel(ytest[train].toarray()))\n",
    "            score += logit.score(Xtest[val],ytest.toarray()[val])            \n",
    "        scores.append(score/10)\n",
    "    best_value_ind = scores.index(max(scores))\n",
    "        \n",
    "    return Cvalues[best_value_ind]"
   ]
  },
  {
   "cell_type": "code",
   "execution_count": 3,
   "metadata": {
    "collapsed": false
   },
   "outputs": [],
   "source": [
    "from scipy.sparse import csr_matrix\n",
    "from sklearn.utils import shuffle\n",
    "import numpy as np\n",
    "user_skills = open('user_skill','r')\n",
    "\n",
    "col = []\n",
    "row = []\n",
    "data = []\n",
    "\n",
    "counter = 0\n",
    "for line in user_skills:\n",
    "    line = line.strip('\\n')\n",
    "    skills = map(int,line.split(':')[1].split(','))\n",
    "    data += ([1]*len(skills))\n",
    "    row +=([counter]*len(skills))\n",
    "    col += (skills)\n",
    "    counter +=1\n",
    "\n",
    "user_skills.close()\n",
    "col = np.asarray(col)\n",
    "row = np.asarray(row)\n",
    "data = np.asarray(data)\n",
    "Z = csr_matrix((data,(row, col)),shape= (counter+1,14544))"
   ]
  },
  {
   "cell_type": "code",
   "execution_count": 4,
   "metadata": {
    "collapsed": false
   },
   "outputs": [],
   "source": [
    "nrows = np.shape(Z)[0]\n",
    "Z=shuffle(Z, random_state = 0)\n",
    "train_size = int(0.7*nrows)\n",
    "Ztr = Z[range(train_size),:]\n",
    "Zts = Z[range(train_size, nrows),:]"
   ]
  },
  {
   "cell_type": "code",
   "execution_count": 5,
   "metadata": {
    "collapsed": false
   },
   "outputs": [],
   "source": [
    "import operator\n",
    "skills_count = np.asarray(Z.sum(axis=0))[0]\n",
    "skills_labels = []\n",
    "skills_id = open('skill_id','r')\n",
    "for line in skills_id:\n",
    "    skills_labels.append(unicode(line.split(' :')[0],'utf-8'))\n",
    "    \n",
    "dictionary = dict(zip(skills_labels, skills_count.T))\n",
    "x = []\n",
    "y = []\n",
    "for i in range(20):\n",
    "    skill = max(dictionary.iteritems(), key=operator.itemgetter(1))[0]\n",
    "    x.append(skill)\n",
    "    y.append(dictionary.get(skill))\n",
    "    del dictionary[skill]\n",
    "\n",
    "import numpy as np\n",
    "import matplotlib.pyplot as plt\n",
    "fig, ax = plt.subplots()\n",
    "width = 0.75 # the width of the bars \n",
    "ind = np.arange(len(y))  # the x locations for the groups\n",
    "ax.barh(ind, y, width, color=\"blue\")\n",
    "ax.set_yticks(ind+width/2)\n",
    "ax.set_yticklabels(x, minor=False)\n",
    "plt.title('Top 20 Skills Linkedin')\n",
    "plt.xlabel('Users with the Skill')\n",
    "plt.ylabel('Skill')      \n",
    "plt.show()"
   ]
  },
  {
   "cell_type": "markdown",
   "metadata": {
    "collapsed": true
   },
   "source": [
    "# Modelos"
   ]
  },
  {
   "cell_type": "code",
   "execution_count": 22,
   "metadata": {
    "collapsed": false
   },
   "outputs": [
    {
     "name": "stdout",
     "output_type": "stream",
     "text": [
      "0.87742169111\n",
      "0.831081081081\n"
     ]
    }
   ],
   "source": [
    "from sklearn import linear_model\n",
    "selected_skills = [29]\n",
    "for skill in selected_skills:\n",
    "    ytr = Ztr[:,skill]\n",
    "    Xtr = csr_matrix(np.delete(Ztr.toarray(),skill,1))\n",
    "    yts = Zts[:,skill]\n",
    "    Xts = csr_matrix(np.delete(Zts.toarray(),skill,1))\n",
    "    c = logistic_c(Xtr, ytr)\n",
    "    \n",
    "    #Logistic Regression model\n",
    "    logit_model = linear_model.LogisticRegression(C=c)\n",
    "    ytr = np.ravel(ytr.toarray())\n",
    "    yts = np.ravel(yts.toarray())\n",
    "    logit_model.fit(Xtr, ytr)\n",
    "    \n",
    "    print logit_model.score(Xtr, ytr)\n",
    "    print logit_model.score(Xts, yts)\n",
    "    \n",
    "#TODO: implementar cross validation para escoger parámetros"
   ]
  },
  {
   "cell_type": "code",
   "execution_count": null,
   "metadata": {
    "collapsed": true
   },
   "outputs": [],
   "source": []
  }
 ],
 "metadata": {
  "kernelspec": {
   "display_name": "Python [Root]",
   "language": "python",
   "name": "Python [Root]"
  },
  "language_info": {
   "codemirror_mode": {
    "name": "ipython",
    "version": 2
   },
   "file_extension": ".py",
   "mimetype": "text/x-python",
   "name": "python",
   "nbconvert_exporter": "python",
   "pygments_lexer": "ipython2",
   "version": "2.7.12"
  }
 },
 "nbformat": 4,
 "nbformat_minor": 0
}
