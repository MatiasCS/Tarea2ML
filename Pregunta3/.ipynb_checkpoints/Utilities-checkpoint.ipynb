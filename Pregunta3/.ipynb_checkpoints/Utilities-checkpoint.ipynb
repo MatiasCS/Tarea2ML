{
 "cells": [
  {
   "cell_type": "code",
   "execution_count": null,
   "metadata": {
    "collapsed": true
   },
   "outputs": [],
   "source": [
    "from sklearn import linear_model\n",
    "from sklearn import cross_validation\n",
    "\n",
    "def logistic_c(Xtest, ytest):\n",
    "    scores = []\n",
    "    score = 0\n",
    "    k_fold = cross_validation.KFold(len(Xred_pca),10)\n",
    "    for c in range(1,1e6,10):\n",
    "        for k, (train, val) in enumerate(k_fold):\n",
    "            Xcross = (Xtest[train])\n",
    "            logit = linear_model.LogisticRegression(C=c)\n",
    "            logit.fit(Xtest,ytest[train])\n",
    "            score += logit.score(Xtest,ytest)\n",
    "            \n",
    "        scores.append(score/10)\n",
    "        print max(scores)"
   ]
  }
 ],
 "metadata": {
  "kernelspec": {
   "display_name": "Python [Root]",
   "language": "python",
   "name": "Python [Root]"
  },
  "language_info": {
   "codemirror_mode": {
    "name": "ipython",
    "version": 2
   },
   "file_extension": ".py",
   "mimetype": "text/x-python",
   "name": "python",
   "nbconvert_exporter": "python",
   "pygments_lexer": "ipython2",
   "version": "2.7.12"
  }
 },
 "nbformat": 4,
 "nbformat_minor": 0
}
