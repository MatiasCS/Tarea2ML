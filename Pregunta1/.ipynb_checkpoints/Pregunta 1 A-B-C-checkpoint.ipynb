{
 "cells": [
  {
   "cell_type": "markdown",
   "metadata": {},
   "source": [
    "# Reducción de dimensionalidad para clasificación"
   ]
  },
  {
   "cell_type": "code",
   "execution_count": 1,
   "metadata": {
    "collapsed": false
   },
   "outputs": [
    {
     "name": "stdout",
     "output_type": "stream",
     "text": [
      "<class 'pandas.core.frame.DataFrame'>\n",
      "Int64Index: 462 entries, 1 to 462\n",
      "Data columns (total 11 columns):\n",
      "y       462 non-null int64\n",
      "x.1     462 non-null float64\n",
      "x.2     462 non-null float64\n",
      "x.3     462 non-null float64\n",
      "x.4     462 non-null float64\n",
      "x.5     462 non-null float64\n",
      "x.6     462 non-null float64\n",
      "x.7     462 non-null float64\n",
      "x.8     462 non-null float64\n",
      "x.9     462 non-null float64\n",
      "x.10    462 non-null float64\n",
      "dtypes: float64(10), int64(1)\n",
      "memory usage: 43.3 KB\n"
     ]
    }
   ],
   "source": [
    "import urllib\n",
    "import pandas as pd\n",
    "train_data_url = \"http://statweb.stanford.edu/~tibs/ElemStatLearn/datasets/vowel.train\"\n",
    "test_data_url = \"http://statweb.stanford.edu/~tibs/ElemStatLearn/datasets/vowel.test\"\n",
    "train_data_f = urllib.urlretrieve(train_data_url, \"train_data.csv\")\n",
    "test_data_f = urllib.urlretrieve(test_data_url, \"test_data.csv\")\n",
    "train_df = pd.DataFrame.from_csv('train_data.csv',header=0,index_col=0)\n",
    "test_df = pd.DataFrame.from_csv('test_data.csv',header=0,index_col=0)\n",
    "train_df.head()\n",
    "test_df.tail()\n",
    "test_df.info()"
   ]
  },
  {
   "cell_type": "code",
   "execution_count": 4,
   "metadata": {
    "collapsed": true
   },
   "outputs": [],
   "source": [
    "from sklearn.preprocessing import StandardScaler\n",
    "X = train_df.ix[:,'x.1':'x.10'].values\n",
    "y = train_df.ix[:,'y'].values\n",
    "X_std = StandardScaler().fit_transform(X)\n"
   ]
  },
  {
   "cell_type": "markdown",
   "metadata": {},
   "source": [
    "# 1.a 1.b"
   ]
  },
  {
   "cell_type": "markdown",
   "metadata": {},
   "source": [
    "En esta sección de la tarea se trabajó con un set de datos que representa una colección de sonidos fonéticos. A cada uno de los sonidos se le asocia una vocal del idioma Ingles, lo cual nos da un total de 11 clases posibles. Los autores entregan aproximación en ascii de cada vocal, junto con la palabra en la que se pronunció. Esto se ilustra en la siguiente tabla: \n",
    "\n",
    "<table>\n",
    "  <tr>\n",
    "    <th>Vocal</th>\n",
    "    <th>Palabra</th>\n",
    "    <th>Vocal</th>\n",
    "    <th>Palabra</th>\n",
    "  </tr>\n",
    "  <tr>\n",
    "    <td>i</td>\n",
    "    <td>heed</td>\n",
    "    <td>o</td>\n",
    "    <td>hod</td>\n",
    "  </tr>\n",
    "  <tr>\n",
    "    <td>I</td>\n",
    "    <td>hid</td>\n",
    "    <td>C:</td>\n",
    "    <td>hoard</td>\n",
    "  </tr>\n",
    "  <tr>\n",
    "    <td>E</td>\n",
    "    <td>head</td>\n",
    "    <td>U</td>\n",
    "    <td>hood</td>\n",
    "  </tr>\n",
    "  <tr>\n",
    "    <td>A</td>\n",
    "    <td>had</td>\n",
    "    <td>u:</td>\n",
    "    <td>who'd</td>\n",
    "  </tr>\n",
    "  <tr>\n",
    "    <td>a:</td>\n",
    "    <td>hard</td>\n",
    "    <td>3:</td>\n",
    "    <td>heard</td>\n",
    "  </tr>\n",
    "  <tr>\n",
    "    <td>Y</td>\n",
    "    <td>hud</td>\n",
    "    <td></td>\n",
    "    <td></td>\n",
    "  </tr>\n",
    "</table>\n",
    "\n",
    "Mediante la participación de 15 personas que pronunciaban las palabras se orginaron dos sets de datos. El training set consta de 528 ejemplos, mientras que el testing set consta de 462. Cada ejemplo consta de 11 atributos, siendo uno de ellos a la clase a la cual pertenece dicho ejemplo, mientras que los otros 10 son generados siguiendo la propuesta de Rabiner y Schaffer para el procesamiento del habla.\n",
    "\n",
    "Por escribir: importancia de la normalización del dataset\n",
    "\n"
   ]
  },
  {
   "cell_type": "markdown",
   "metadata": {},
   "source": [
    "# 1.c Reducción de dimensionalidad via PCA"
   ]
  },
  {
   "cell_type": "code",
   "execution_count": 5,
   "metadata": {
    "collapsed": false
   },
   "outputs": [],
   "source": [
    "from sklearn.decomposition import PCA\n",
    "from matplotlib import pyplot as plt\n",
    "import seaborn as sns\n",
    "import numpy as np\n",
    "sklearn_pca = PCA(n_components=2)\n",
    "Xred_pca = sklearn_pca.fit_transform(X_std)\n",
    "cmap = plt.cm.get_cmap('RdYlGn')\n",
    "mclasses=(1,2,3,4,5,6,7,8,9,10,11)\n",
    "mcolors = [cmap(i) for i in np.linspace(0,1,11)]\n",
    "plt.figure(figsize=(12, 8))\n",
    "for lab, col in zip(mclasses,mcolors):\n",
    "    plt.scatter(Xred_pca[y==lab, 0],Xred_pca[y==lab, 1],label=lab,c=col)\n",
    "plt.title('PCA reduction vowel training set')\n",
    "plt.xlabel('Principal Component 1')\n",
    "plt.ylabel('Principal Component 2')\n",
    "leg = plt.legend(loc='upper right', fancybox=True)\n",
    "plt.show()"
   ]
  },
  {
   "cell_type": "markdown",
   "metadata": {},
   "source": [
    "Al utilizar PCA para reducir dimensiones se proyecta la data en la dirección de máxima varianza del dataset. En general cada reducción busca, en el mejor de los casos disminuir el ruido del modelo y además, eliminar datos que puedan ser redundantes dentro del problema estudiado. Es importante destacar PCA por definición no utiliza informacion de las etiquetas de los ejemplos para realizar la reducción de dimensionalidad. Por lo que no siempre se obtienen los resultados buscados con este método."
   ]
  },
  {
   "cell_type": "code",
   "execution_count": null,
   "metadata": {
    "collapsed": true
   },
   "outputs": [],
   "source": []
  }
 ],
 "metadata": {
  "kernelspec": {
   "display_name": "Python [Root]",
   "language": "python",
   "name": "Python [Root]"
  },
  "language_info": {
   "codemirror_mode": {
    "name": "ipython",
    "version": 2
   },
   "file_extension": ".py",
   "mimetype": "text/x-python",
   "name": "python",
   "nbconvert_exporter": "python",
   "pygments_lexer": "ipython2",
   "version": "2.7.12"
  }
 },
 "nbformat": 4,
 "nbformat_minor": 0
}
