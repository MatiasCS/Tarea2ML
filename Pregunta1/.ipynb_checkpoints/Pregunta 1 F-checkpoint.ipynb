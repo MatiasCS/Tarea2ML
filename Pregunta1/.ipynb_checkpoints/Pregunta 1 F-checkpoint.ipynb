{
 "cells": [
  {
   "cell_type": "markdown",
   "metadata": {},
   "source": [
    "# Pregunta 1 F Clasificador en base a probabilidad a priori"
   ]
  },
  {
   "cell_type": "code",
   "execution_count": 2,
   "metadata": {
    "collapsed": false
   },
   "outputs": [],
   "source": [
    "import urllib\n",
    "import pandas as pd\n",
    "train_data_url = \"http://statweb.stanford.edu/~tibs/ElemStatLearn/datasets/vowel.train\"\n",
    "test_data_url = \"http://statweb.stanford.edu/~tibs/ElemStatLearn/datasets/vowel.test\"\n",
    "train_data_f = urllib.urlretrieve(train_data_url, \"train_data.csv\")\n",
    "test_data_f = urllib.urlretrieve(test_data_url, \"test_data.csv\")\n",
    "train_df = pd.DataFrame.from_csv('train_data.csv',header=0,index_col=0)\n",
    "test_df = pd.DataFrame.from_csv('test_data.csv',header=0,index_col=0)"
   ]
  },
  {
   "cell_type": "code",
   "execution_count": 3,
   "metadata": {
    "collapsed": true
   },
   "outputs": [],
   "source": [
    "from sklearn.preprocessing import StandardScaler\n",
    "X = train_df.ix[:,'x.1':'x.10'].values\n",
    "y = train_df.ix[:,'y'].values\n",
    "X_std = StandardScaler().fit_transform(X)"
   ]
  },
  {
   "cell_type": "code",
   "execution_count": 4,
   "metadata": {
    "collapsed": false
   },
   "outputs": [
    {
     "name": "stdout",
     "output_type": "stream",
     "text": [
      "(array([ 1,  2,  3,  4,  5,  6,  7,  8,  9, 10, 11]), array([48, 48, 48, 48, 48, 48, 48, 48, 48, 48, 48]))\n",
      "La clase del correspondiente es: 9\n"
     ]
    }
   ],
   "source": [
    "import numpy as np\n",
    "import random as rd\n",
    "\n",
    "def priori_classifier(xtest,y):\n",
    "    classes, counts = np.unique(y, return_counts=True)\n",
    "    set_length = counts.sum()\n",
    "    prob = []\n",
    "    for count in (counts):\n",
    "        prob.append(float(count)/set_length)\n",
    "\n",
    "    prob_ranges = []\n",
    "    for i in range(classes.size):\n",
    "        prob_ranges.append((prob[i]*i,prob[i]*(i+1),i+1))\n",
    "\n",
    "    random_number = rd.uniform(0,1)\n",
    "    for (inf, sup, mclass) in (prob_ranges):\n",
    "        if(random_number >=inf and random_number < sup):\n",
    "            print 'La clase del correspondiente es: {}'.format(mclass)\n",
    "\n",
    "priori_classifier(1,y)"
   ]
  },
  {
   "cell_type": "markdown",
   "metadata": {},
   "source": [
    "## Construcción del modelo"
   ]
  },
  {
   "cell_type": "markdown",
   "metadata": {
    "collapsed": true
   },
   "source": [
    "Para construir el clasificador fue necesario contar la ocurrencia de cada clase en el dateset de entrenamiento. Esta tarea se realiza en la siguiente línea de código:\n",
    "\n",
    "<code>classes, counts = np.unique(y, return_counts=True)</code>\n",
    "\n",
    "La probabilidad de cada clase se calcula como la razón entre las veces en las que esta presenta la clase en el dataset, y la cantidad total de ejemplos dentro del mismo. Una vez obtenidas estas probabilidades, se procede a construir intervalos númericos para cada clase en base a su probabilidad, los cuales serán utilizados por el clasificador para determinar la clase a la que pertence un ejemplo. Cada intervalo se calculará de la siguiente forma:\n",
    "\n",
    "<ul>\n",
    "<li>[0, P(i)] , para i = 1\n",
    "<li>[Lsup_i-1,Lsup_i-1 + P(i)], para i = 2,3,...,11\n",
    "</ul>\n",
    "\n",
    "En donde Lsup_i-1 corresponde al limite superior de la clase anterior y P(i) a la probabilidad a priori de la clase i. Utilizando esta definición se genera un intervalo para las clases que en su totalidad va de 0 a 1.\n",
    "\n",
    "El clasificador priori_classifier al recibir un ejemplo genera un número aleatorio dentro del intervalo 0 a 1, luego compara este valor con los rangos que le pertenece a cada clase y determina así la predicción de y  para el ejemplo X"
   ]
  },
  {
   "cell_type": "code",
   "execution_count": null,
   "metadata": {
    "collapsed": true
   },
   "outputs": [],
   "source": []
  }
 ],
 "metadata": {
  "kernelspec": {
   "display_name": "Python [Root]",
   "language": "python",
   "name": "Python [Root]"
  },
  "language_info": {
   "codemirror_mode": {
    "name": "ipython",
    "version": 2
   },
   "file_extension": ".py",
   "mimetype": "text/x-python",
   "name": "python",
   "nbconvert_exporter": "python",
   "pygments_lexer": "ipython2",
   "version": "2.7.12"
  }
 },
 "nbformat": 4,
 "nbformat_minor": 0
}
