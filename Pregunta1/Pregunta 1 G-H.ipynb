{
 "cells": [
  {
   "cell_type": "markdown",
   "metadata": {},
   "source": [
    "# Pregunta 1 G comparacion de LDA, QDA y KNN"
   ]
  },
  {
   "cell_type": "code",
   "execution_count": 1,
   "metadata": {
    "collapsed": true
   },
   "outputs": [],
   "source": [
    "group and genderimport urllib\n",
    "import pandas as pd\n",
    "train_data_url = \"http://statweb.stanford.edu/~tibs/ElemStatLearn/datasets/vowel.train\"\n",
    "test_data_url = \"http://statweb.stanford.edu/~tibs/ElemStatLearn/datasets/vowel.test\"\n",
    "train_data_f = urllib.urlretrieve(train_data_url, \"train_data.csv\")\n",
    "test_data_f = urllib.urlretrieve(test_data_url, \"test_data.csv\")\n",
    "train_df = pd.DataFrame.from_csv('train_data.csv',header=0,index_col=0)\n",
    "test_df = pd.DataFrame.from_csv('test_data.csv',header=0,index_col=0)"
   ]
  },
  {
   "cell_type": "code",
   "execution_count": 2,
   "metadata": {
    "collapsed": true
   },
   "outputs": [],
   "source": [
    "from sklearn.preprocessing import StandardScaler\n",
    "X = train_df.ix[:,'x.1':'x.10'].values\n",
    "y = train_df.ix[:,'y'].values\n",
    "X_std = StandardScaler().fit_transform(X)"
   ]
  },
  {
   "cell_type": "code",
   "execution_count": 35,
   "metadata": {
    "collapsed": false
   },
   "outputs": [],
   "source": [
    "from sklearn.lda import LDA\n",
    "from sklearn.qda import QDA\n",
    "import numpy as np\n",
    "import matplotlib.pyplot as plt\n",
    "from sklearn.neighbors import KNeighborsClassifier\n",
    "Xtest = test_df.ix[:,'x.1':'x.10'].values\n",
    "ytest = test_df.ix[:,'y'].values\n",
    "X_std_test = StandardScaler().fit_transform(Xtest)\n",
    "\n",
    "train_scores = []\n",
    "test_scores = []\n",
    "\n",
    "models = {\n",
    "    0: LDA(),\n",
    "    1: QDA(),\n",
    "    2: KNeighborsClassifier(n_neighbors=10)\n",
    "}\n",
    "\n",
    "for i in range(3):\n",
    "    model = models[i]\n",
    "    model.fit(X_std,y)\n",
    "    train_scores.append(model.score(X_std,y))\n",
    "    test_scores.append(model.score(X_std_test,ytest))\n",
    "\n",
    "bar_width = 0.35\n",
    "index = np.arange(3)\n",
    "labels = ('LDA', 'QDA', 'KNN')\n",
    "rects1 = plt.bar(index, train_scores, bar_width, alpha = 0.5, color='b',label='Training set')\n",
    "rects2 = plt.bar(index + bar_width, test_scores, bar_width, alpha = 0.5, color='g',label='Testing set')\n",
    "\n",
    "plt.xlabel('Model')\n",
    "plt.ylabel('Scores')\n",
    "plt.title('Scores by model and set')\n",
    "plt.xticks(index + bar_width, labels)\n",
    "plt.legend()\n",
    "\n",
    "plt.tight_layout()\n",
    "plt.show()"
   ]
  },
  {
   "cell_type": "code",
   "execution_count": 33,
   "metadata": {
    "collapsed": true
   },
   "outputs": [],
   "source": [
    "train_score = []\n",
    "test_score = []\n",
    "kmax = 100\n",
    "for i in range(1,kmax):\n",
    "    knn_model = KNeighborsClassifier(n_neighbors=i)\n",
    "    knn_model.fit(X_std,y)\n",
    "    train_score.append(knn_model.score(X_std,y))\n",
    "    test_score.append(knn_model.score(X_std_test,ytest))\n",
    "plt.figure(figsize=(12, 8))\n",
    "plt.plot(range(1,kmax),train_score,'-b.')\n",
    "plt.plot(range(1,kmax),test_score,'-g.')\n",
    "plt.show()"
   ]
  },
  {
   "cell_type": "code",
   "execution_count": null,
   "metadata": {
    "collapsed": true
   },
   "outputs": [],
   "source": []
  }
 ],
 "metadata": {
  "kernelspec": {
   "display_name": "Python [Root]",
   "language": "python",
   "name": "Python [Root]"
  },
  "language_info": {
   "codemirror_mode": {
    "name": "ipython",
    "version": 2
   },
   "file_extension": ".py",
   "mimetype": "text/x-python",
   "name": "python",
   "nbconvert_exporter": "python",
   "pygments_lexer": "ipython2",
   "version": "2.7.12"
  }
 },
 "nbformat": 4,
 "nbformat_minor": 0
}
